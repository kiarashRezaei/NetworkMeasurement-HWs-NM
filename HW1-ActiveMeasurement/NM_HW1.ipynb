{
  "nbformat": 4,
  "nbformat_minor": 0,
  "metadata": {
    "colab": {
      "provenance": []
    },
    "kernelspec": {
      "name": "python3",
      "display_name": "Python 3"
    },
    "language_info": {
      "name": "python"
    }
  },
  "cells": [
    {
      "cell_type": "markdown",
      "source": [
        "# **HW1**\n",
        "**GENRAL APPROACH:**\n",
        "----------------------\n",
        "***PART 1:***\n",
        "**1)** I got the ip address of the virtual machine that has been assigend to me from the google cloud (to be more specific, I used the external ip address for the further steps because I could not get the location of the VM using the private IP addrress). Then I pseudo-randomly chose servers of different countries from the reference websites (https://www.debian.org/mirror/list and https://www.gnu.org/prep/ftp.html). In this way, the closest server was in US and the furthest was in Australia. I put them in a csv file, then I read it as a pandas dataframe in my notebook. afterwards their, latitude and longtitude has been obtained based on their ip addresses. for this purpose, I wrote a script to send http GET requests to [https://ipapi.co/](https://ipapi.co/) website API. Using lat. and long. , I computed the geographical distances between the source and each destination.\n",
        "-------------------------------------------------------------------\n",
        "**2)** At this point, I created TCP SYN packets in order for performing my ping process. I used TCP because in general even if a server is configured in such a way that is not responsive to the python built-in ping or ICM echo-request, we still could receive a response(SYN-ACK) to perform our measurement. Finally, I sent SYN messages to different destinations and computed the average Round-Trip-Time (RTT) for each destination based on their responses.\n",
        "--------------------------------------------------------------------\n",
        "**3)** At last, I created a dataframe contaning target ip (and target name)and their corresponding average RTT and geographical distance. After sorting in an increasing order w.r.t the distances, I ploted RTT vs. distances.\n",
        "--------------------------------------------------------------------\n",
        "_______________\n",
        "***PART2***\n",
        "As it has been guided, I used Polyfit method of numpy library, to minimize the least square error that resulted in having a linear estimation of RTTs based on their corresponding distances. In general, one can conclude that apart from distance, there are other parameters that may affect RTT(eg.network congestion, bandwith, packet loss, etc ). However, distance is the most effective parameter and we can have a fair linear estimation of RTT based on the distance.\n",
        "--------------------------------------------------------------------\n",
        "____________________________________________________________________"
      ],
      "metadata": {
        "id": "IHE7MBlWdiRI"
      }
    },
    {
      "cell_type": "code",
      "source": [
        "!pip install pythonping\n",
        "!pip install --pre scapy[basic]"
      ],
      "metadata": {
        "colab": {
          "base_uri": "https://localhost:8080/"
        },
        "id": "kPUUJyXL65Tl",
        "outputId": "e749806e-c444-4764-ecf8-a014522d39e2"
      },
      "execution_count": 1,
      "outputs": [
        {
          "output_type": "stream",
          "name": "stdout",
          "text": [
            "Looking in indexes: https://pypi.org/simple, https://us-python.pkg.dev/colab-wheels/public/simple/\n",
            "Requirement already satisfied: pythonping in /usr/local/lib/python3.9/dist-packages (1.1.4)\n",
            "Looking in indexes: https://pypi.org/simple, https://us-python.pkg.dev/colab-wheels/public/simple/\n",
            "Requirement already satisfied: scapy[basic] in /usr/local/lib/python3.9/dist-packages (2.5.0)\n",
            "Requirement already satisfied: ipython in /usr/local/lib/python3.9/dist-packages (from scapy[basic]) (7.9.0)\n",
            "Requirement already satisfied: pexpect in /usr/local/lib/python3.9/dist-packages (from ipython->scapy[basic]) (4.8.0)\n",
            "Requirement already satisfied: prompt-toolkit<2.1.0,>=2.0.0 in /usr/local/lib/python3.9/dist-packages (from ipython->scapy[basic]) (2.0.10)\n",
            "Requirement already satisfied: setuptools>=18.5 in /usr/local/lib/python3.9/dist-packages (from ipython->scapy[basic]) (57.4.0)\n",
            "Requirement already satisfied: pickleshare in /usr/local/lib/python3.9/dist-packages (from ipython->scapy[basic]) (0.7.5)\n",
            "Requirement already satisfied: traitlets>=4.2 in /usr/local/lib/python3.9/dist-packages (from ipython->scapy[basic]) (5.7.1)\n",
            "Requirement already satisfied: pygments in /usr/local/lib/python3.9/dist-packages (from ipython->scapy[basic]) (2.6.1)\n",
            "Requirement already satisfied: jedi>=0.10 in /usr/local/lib/python3.9/dist-packages (from ipython->scapy[basic]) (0.18.2)\n",
            "Requirement already satisfied: backcall in /usr/local/lib/python3.9/dist-packages (from ipython->scapy[basic]) (0.2.0)\n",
            "Requirement already satisfied: decorator in /usr/local/lib/python3.9/dist-packages (from ipython->scapy[basic]) (4.4.2)\n",
            "Requirement already satisfied: parso<0.9.0,>=0.8.0 in /usr/local/lib/python3.9/dist-packages (from jedi>=0.10->ipython->scapy[basic]) (0.8.3)\n",
            "Requirement already satisfied: wcwidth in /usr/local/lib/python3.9/dist-packages (from prompt-toolkit<2.1.0,>=2.0.0->ipython->scapy[basic]) (0.2.6)\n",
            "Requirement already satisfied: six>=1.9.0 in /usr/local/lib/python3.9/dist-packages (from prompt-toolkit<2.1.0,>=2.0.0->ipython->scapy[basic]) (1.15.0)\n",
            "Requirement already satisfied: ptyprocess>=0.5 in /usr/local/lib/python3.9/dist-packages (from pexpect->ipython->scapy[basic]) (0.7.0)\n"
          ]
        }
      ]
    },
    {
      "cell_type": "code",
      "source": [
        "import urllib.request\n",
        "import json\n",
        "from scapy.all import *\n",
        "import matplotlib as mpl\n",
        "import matplotlib.pyplot as plt\n",
        "import numpy as np\n",
        "import statistics as stat\n",
        "import pandas as pd\n",
        "import numpy as np\n",
        "import socket\n",
        "import requests\n",
        "from geopy.distance import distance\n",
        "import csv"
      ],
      "metadata": {
        "id": "W-UJotTcDyac"
      },
      "execution_count": 2,
      "outputs": []
    },
    {
      "cell_type": "code",
      "source": [
        "#getting the Private Ip address(however, we do not use it)\n",
        "hostname = socket.gethostname()\n",
        "my_private_ip = socket.gethostbyname(hostname)\n",
        "my_private_ip"
      ],
      "metadata": {
        "colab": {
          "base_uri": "https://localhost:8080/",
          "height": 35
        },
        "id": "lfCJk8ecrj3w",
        "outputId": "e36b85b5-2c02-41f9-9e8a-7056c1f7d724"
      },
      "execution_count": 3,
      "outputs": [
        {
          "output_type": "execute_result",
          "data": {
            "text/plain": [
              "'172.28.0.12'"
            ],
            "application/vnd.google.colaboratory.intrinsic+json": {
              "type": "string"
            }
          },
          "metadata": {},
          "execution_count": 3
        }
      ]
    },
    {
      "cell_type": "code",
      "source": [
        "#getting the VM specifications such as External IP, that will be used in the future blocks\n",
        "import urllib.request\n",
        "import json\n",
        "\n",
        "my_ip = urllib.request.urlopen('https://api.ipify.org').read().decode('UTF-8')\n",
        "ip_info = json.loads(urllib.request.urlopen('http://ip-api.com/json/' + my_ip).read())\n",
        "\n",
        "print('External IP: ', my_ip)\n",
        "print('Organization: ', ip_info[\"org\"])\n",
        "print('Location: ', ip_info[\"city\"], ',', ip_info[\"country\"])"
      ],
      "metadata": {
        "colab": {
          "base_uri": "https://localhost:8080/"
        },
        "id": "ZFOfMRSTuhdo",
        "outputId": "d33fb2f6-cb0c-4138-9a45-c01761cf79f2"
      },
      "execution_count": 4,
      "outputs": [
        {
          "output_type": "stream",
          "name": "stdout",
          "text": [
            "External IP:  35.221.13.20\n",
            "Organization:  Google Cloud (us-east4)\n",
            "Location:  Washington , United States\n"
          ]
        }
      ]
    },
    {
      "cell_type": "code",
      "source": [
        "#reading and preprocessing the CSV file of destination server addresses\n",
        "df = pd.read_csv(\"/content/server_adrress_hw1 (1).csv\")\n",
        "df[\"adress\"] = df[\"adress\"].str.replace('/debian/', '')\n",
        "df[\"adress\"] = df[\"adress\"].str.replace('http://', '')\n",
        "df[\"adress\"] = df[\"adress\"].str.replace('https://', '')\n",
        "df[\"adress\"] = df[\"adress\"].str.replace('ftp://', '')\n",
        "df[\"adress\"] = df[\"adress\"].str.replace('/ftp/', '')\n",
        "df[\"adress\"] = df[\"adress\"].str.replace('ftp/', '')\n",
        "df[\"adress\"] = df[\"adress\"].str.replace('www.', '')\n",
        "df[\"adress\"] = df[\"adress\"].str.replace('rsync://', '')\n",
        "df[\"adress\"] = df[\"adress\"].str.replace('/ftp/', '')\n",
        "df[\"adress\"] = df[\"adress\"].str.replace('/GNU/', '')\n",
        "df[\"adress\"] = df[\"adress\"].str.replace('gnu/', '')\n",
        "df[\"adress\"] = df[\"adress\"].str.replace('/pub', '')\n",
        "df[\"adress\"] = df[\"adress\"].str.replace('/mirrors', '')\n",
        "df[\"adress\"] = df[\"adress\"].str.replace('/gnu', '')\n",
        "df[\"adress\"] = df[\"adress\"].str.replace('/', '')\n",
        "df[\"adress\"]=df[\"adress\"].apply(lambda x: f\"{x}\")\n",
        "df = df.drop_duplicates()\n",
        "\n",
        "df.head(10)"
      ],
      "metadata": {
        "id": "3mF3apd4CzEV",
        "colab": {
          "base_uri": "https://localhost:8080/",
          "height": 398
        },
        "outputId": "40db82f2-1392-4526-824f-e236cfd15291"
      },
      "execution_count": 5,
      "outputs": [
        {
          "output_type": "stream",
          "name": "stderr",
          "text": [
            "<ipython-input-5-f1169d54bee9>:9: FutureWarning: The default value of regex will change from True to False in a future version.\n",
            "  df[\"adress\"] = df[\"adress\"].str.replace('www.', '')\n"
          ]
        },
        {
          "output_type": "execute_result",
          "data": {
            "text/plain": [
              "          Country             adress\n",
              "0       Australia  ftp.au.debian.org\n",
              "1         Austria  ftp.at.debian.org\n",
              "2         Belarus  ftp.by.debian.org\n",
              "3         Belgium  ftp.be.debian.org\n",
              "4          Brazil  ftp.br.debian.org\n",
              "5        Bulgaria  ftp.bg.debian.org\n",
              "6           China  ftp.cn.debian.org\n",
              "7         Croatia  ftp.hr.debian.org\n",
              "8  Czech Republic  ftp.cz.debian.org\n",
              "9         Denmark  ftp.dk.debian.org"
            ],
            "text/html": [
              "\n",
              "  <div id=\"df-af7d92c9-efca-4f98-9ae4-9d485abbda1a\">\n",
              "    <div class=\"colab-df-container\">\n",
              "      <div>\n",
              "<style scoped>\n",
              "    .dataframe tbody tr th:only-of-type {\n",
              "        vertical-align: middle;\n",
              "    }\n",
              "\n",
              "    .dataframe tbody tr th {\n",
              "        vertical-align: top;\n",
              "    }\n",
              "\n",
              "    .dataframe thead th {\n",
              "        text-align: right;\n",
              "    }\n",
              "</style>\n",
              "<table border=\"1\" class=\"dataframe\">\n",
              "  <thead>\n",
              "    <tr style=\"text-align: right;\">\n",
              "      <th></th>\n",
              "      <th>Country</th>\n",
              "      <th>adress</th>\n",
              "    </tr>\n",
              "  </thead>\n",
              "  <tbody>\n",
              "    <tr>\n",
              "      <th>0</th>\n",
              "      <td>Australia</td>\n",
              "      <td>ftp.au.debian.org</td>\n",
              "    </tr>\n",
              "    <tr>\n",
              "      <th>1</th>\n",
              "      <td>Austria</td>\n",
              "      <td>ftp.at.debian.org</td>\n",
              "    </tr>\n",
              "    <tr>\n",
              "      <th>2</th>\n",
              "      <td>Belarus</td>\n",
              "      <td>ftp.by.debian.org</td>\n",
              "    </tr>\n",
              "    <tr>\n",
              "      <th>3</th>\n",
              "      <td>Belgium</td>\n",
              "      <td>ftp.be.debian.org</td>\n",
              "    </tr>\n",
              "    <tr>\n",
              "      <th>4</th>\n",
              "      <td>Brazil</td>\n",
              "      <td>ftp.br.debian.org</td>\n",
              "    </tr>\n",
              "    <tr>\n",
              "      <th>5</th>\n",
              "      <td>Bulgaria</td>\n",
              "      <td>ftp.bg.debian.org</td>\n",
              "    </tr>\n",
              "    <tr>\n",
              "      <th>6</th>\n",
              "      <td>China</td>\n",
              "      <td>ftp.cn.debian.org</td>\n",
              "    </tr>\n",
              "    <tr>\n",
              "      <th>7</th>\n",
              "      <td>Croatia</td>\n",
              "      <td>ftp.hr.debian.org</td>\n",
              "    </tr>\n",
              "    <tr>\n",
              "      <th>8</th>\n",
              "      <td>Czech Republic</td>\n",
              "      <td>ftp.cz.debian.org</td>\n",
              "    </tr>\n",
              "    <tr>\n",
              "      <th>9</th>\n",
              "      <td>Denmark</td>\n",
              "      <td>ftp.dk.debian.org</td>\n",
              "    </tr>\n",
              "  </tbody>\n",
              "</table>\n",
              "</div>\n",
              "      <button class=\"colab-df-convert\" onclick=\"convertToInteractive('df-af7d92c9-efca-4f98-9ae4-9d485abbda1a')\"\n",
              "              title=\"Convert this dataframe to an interactive table.\"\n",
              "              style=\"display:none;\">\n",
              "        \n",
              "  <svg xmlns=\"http://www.w3.org/2000/svg\" height=\"24px\"viewBox=\"0 0 24 24\"\n",
              "       width=\"24px\">\n",
              "    <path d=\"M0 0h24v24H0V0z\" fill=\"none\"/>\n",
              "    <path d=\"M18.56 5.44l.94 2.06.94-2.06 2.06-.94-2.06-.94-.94-2.06-.94 2.06-2.06.94zm-11 1L8.5 8.5l.94-2.06 2.06-.94-2.06-.94L8.5 2.5l-.94 2.06-2.06.94zm10 10l.94 2.06.94-2.06 2.06-.94-2.06-.94-.94-2.06-.94 2.06-2.06.94z\"/><path d=\"M17.41 7.96l-1.37-1.37c-.4-.4-.92-.59-1.43-.59-.52 0-1.04.2-1.43.59L10.3 9.45l-7.72 7.72c-.78.78-.78 2.05 0 2.83L4 21.41c.39.39.9.59 1.41.59.51 0 1.02-.2 1.41-.59l7.78-7.78 2.81-2.81c.8-.78.8-2.07 0-2.86zM5.41 20L4 18.59l7.72-7.72 1.47 1.35L5.41 20z\"/>\n",
              "  </svg>\n",
              "      </button>\n",
              "      \n",
              "  <style>\n",
              "    .colab-df-container {\n",
              "      display:flex;\n",
              "      flex-wrap:wrap;\n",
              "      gap: 12px;\n",
              "    }\n",
              "\n",
              "    .colab-df-convert {\n",
              "      background-color: #E8F0FE;\n",
              "      border: none;\n",
              "      border-radius: 50%;\n",
              "      cursor: pointer;\n",
              "      display: none;\n",
              "      fill: #1967D2;\n",
              "      height: 32px;\n",
              "      padding: 0 0 0 0;\n",
              "      width: 32px;\n",
              "    }\n",
              "\n",
              "    .colab-df-convert:hover {\n",
              "      background-color: #E2EBFA;\n",
              "      box-shadow: 0px 1px 2px rgba(60, 64, 67, 0.3), 0px 1px 3px 1px rgba(60, 64, 67, 0.15);\n",
              "      fill: #174EA6;\n",
              "    }\n",
              "\n",
              "    [theme=dark] .colab-df-convert {\n",
              "      background-color: #3B4455;\n",
              "      fill: #D2E3FC;\n",
              "    }\n",
              "\n",
              "    [theme=dark] .colab-df-convert:hover {\n",
              "      background-color: #434B5C;\n",
              "      box-shadow: 0px 1px 3px 1px rgba(0, 0, 0, 0.15);\n",
              "      filter: drop-shadow(0px 1px 2px rgba(0, 0, 0, 0.3));\n",
              "      fill: #FFFFFF;\n",
              "    }\n",
              "  </style>\n",
              "\n",
              "      <script>\n",
              "        const buttonEl =\n",
              "          document.querySelector('#df-af7d92c9-efca-4f98-9ae4-9d485abbda1a button.colab-df-convert');\n",
              "        buttonEl.style.display =\n",
              "          google.colab.kernel.accessAllowed ? 'block' : 'none';\n",
              "\n",
              "        async function convertToInteractive(key) {\n",
              "          const element = document.querySelector('#df-af7d92c9-efca-4f98-9ae4-9d485abbda1a');\n",
              "          const dataTable =\n",
              "            await google.colab.kernel.invokeFunction('convertToInteractive',\n",
              "                                                     [key], {});\n",
              "          if (!dataTable) return;\n",
              "\n",
              "          const docLinkHtml = 'Like what you see? Visit the ' +\n",
              "            '<a target=\"_blank\" href=https://colab.research.google.com/notebooks/data_table.ipynb>data table notebook</a>'\n",
              "            + ' to learn more about interactive tables.';\n",
              "          element.innerHTML = '';\n",
              "          dataTable['output_type'] = 'display_data';\n",
              "          await google.colab.output.renderOutput(dataTable, element);\n",
              "          const docLink = document.createElement('div');\n",
              "          docLink.innerHTML = docLinkHtml;\n",
              "          element.appendChild(docLink);\n",
              "        }\n",
              "      </script>\n",
              "    </div>\n",
              "  </div>\n",
              "  "
            ]
          },
          "metadata": {},
          "execution_count": 5
        }
      ]
    },
    {
      "cell_type": "code",
      "source": [
        "#saving addrresses in a list\n",
        "target = df[\"adress\"].values\n",
        "target = target.tolist()\n",
        "print(\"Target Server Names: \" ,target)\n",
        "print(\"The number of Servers: \" ,len(target))"
      ],
      "metadata": {
        "colab": {
          "base_uri": "https://localhost:8080/"
        },
        "id": "MjeRQkYslY4F",
        "outputId": "4224c170-6b0c-44b3-9226-214ed895cf02"
      },
      "execution_count": 6,
      "outputs": [
        {
          "output_type": "stream",
          "name": "stdout",
          "text": [
            "Target Server Names:  ['ftp.au.debian.org', 'ftp.at.debian.org', 'ftp.by.debian.org', 'ftp.be.debian.org', 'ftp.br.debian.org', 'ftp.bg.debian.org', 'ftp.cn.debian.org', 'ftp.hr.debian.org', 'ftp.cz.debian.org', 'ftp.dk.debian.org', 'ftp.fi.debian.org', 'ftp.fr.debian.org', 'ftp.de.debian.org', 'ftp.hk.debian.org', 'ftp.hu.debian.org', 'ftp.is.debian.org', 'ftp.it.debian.org', 'ftp.jp.debian.org', 'ftp.lt.debian.org', 'ftp.nl.debian.org', 'ftp.nc.debian.org', 'ftp.pl.debian.org', 'ftp.pt.debian.org', 'ftp.ru.debian.org', 'ftp.sk.debian.org', 'ftp.si.debian.org', 'ftp.es.debian.org', 'ftp.se.debian.org', 'ftp.ch.debian.org', 'ftp.uk.debian.org', 'ftp.us.debian.org', 'ftp.nz.debian.org', 'mirrors.gethosted.online', 'gnu.mirror.iweb.com', 'gnuftp.uib.no', 'gnualpha.uib.no', 'ftp.cc.uoc.gr', 'mirror.hostiran.ir', 'mirror.ufs.ac.za', 'mirror.marwan.ma', 'gnu.c3sl.ufpr.br', 'gnu.mirror.constant.com']\n",
            "The number of Servers:  42\n"
          ]
        }
      ]
    },
    {
      "cell_type": "code",
      "source": [
        "#obtaining the corresponding IP addrresses and saving it as a list\n",
        "target_ip=[]\n",
        "for t in target:\n",
        "  target_ip.append(socket.gethostbyname(t))\n",
        "\n",
        "print(\"Target IP addrresses: \" ,target_ip)"
      ],
      "metadata": {
        "colab": {
          "base_uri": "https://localhost:8080/"
        },
        "id": "lrhg2nAWjN6C",
        "outputId": "65b4510d-785e-44ae-b449-d4f05af2aeb9"
      },
      "execution_count": 7,
      "outputs": [
        {
          "output_type": "stream",
          "name": "stdout",
          "text": [
            "Target IP addrresses:  ['103.84.224.37', '213.129.232.18', '82.209.230.71', '195.234.45.114', '200.236.31.3', '130.89.148.12', '45.125.0.6', '161.53.160.11', '78.128.211.127', '130.225.254.116', '194.71.11.173', '212.27.32.66', '141.76.2.4', '45.125.0.6', '195.228.252.133', '78.129.164.123', '85.94.199.210', '133.5.166.3', '158.129.159.169', '130.89.149.21', '103.2.186.80', '153.19.251.221', '130.89.148.12', '85.143.112.112', '195.80.174.186', '213.129.232.18', '130.89.148.12', '194.71.11.173', '129.132.53.171', '78.129.164.123', '64.50.236.52', '163.7.134.112', '194.156.79.82', '192.175.120.174', '129.177.13.60', '129.177.13.60', '147.52.159.12', '185.173.106.68', '196.255.240.40', '196.200.160.70', '200.236.31.1', '108.61.5.83']\n"
          ]
        }
      ]
    },
    {
      "cell_type": "code",
      "source": [
        "#latitude and longtitude of source \n",
        "my_response = requests.get(f'https://ipapi.co/{my_ip}/latlong/') # Making a GET request to the ipapi API\n",
        "my_lat_lang = my_response.text.split(',') # Extracting the latitude and longitude from the response\n",
        "\n",
        "#latitude and longtitude of destinations\n",
        "response=[]\n",
        "lat_lang=[]\n",
        "for i in range(len(target_ip)):\n",
        "  response.append(requests.get(f'https://ipapi.co/{target_ip[i]}/latlong/')) # Make a GET request to the ipapi API\n",
        "  lat_lang.append(response[i].text.split(',')) # Extract the latitude and longitude from the response\n",
        "\n",
        "print(\"Target latitude and langtitude List: \", lat_lang)\n",
        "print(\"Source Latitude and langtitude: \", my_lat_lang)"
      ],
      "metadata": {
        "colab": {
          "base_uri": "https://localhost:8080/"
        },
        "id": "v5NHPqi6hstX",
        "outputId": "5d496b8b-f656-4547-ecd4-607501b01b79"
      },
      "execution_count": 8,
      "outputs": [
        {
          "output_type": "stream",
          "name": "stdout",
          "text": [
            "Target latitude and langtitude List:  [['-33.871500', '151.200600'], ['48.204900', '16.366200'], ['53.900700', '27.570900'], ['50.819500', '5.186300'], ['-25.502600', '-49.290800'], ['52.238500', '6.870600'], ['22.290800', '114.150100'], ['45.829300', '15.979300'], ['50.088300', '14.412400'], ['55.680200', '12.589200'], ['63.824700', '20.255900'], ['49.442900', '1.100300'], ['50.949900', '13.344000'], ['22.290800', '114.150100'], ['47.563600', '19.094700'], ['51.518000', '-0.086900'], ['45.547000', '9.124100'], ['33.618400', '130.410900'], ['54.747600', '25.502500'], ['52.238500', '6.870600'], ['-22.266500', '166.474200'], ['54.353000', '18.659000'], ['52.238500', '6.870600'], ['55.748300', '37.617100'], ['48.463600', '19.187300'], ['48.204900', '16.366200'], ['52.238500', '6.870600'], ['63.824700', '20.255900'], ['47.398900', '8.496500'], ['51.518000', '-0.086900'], ['41.848600', '-87.628800'], ['-41.273400', '173.302400'], ['52.414100', '-0.521600'], ['45.527800', '-73.668400'], ['58.853259', '5.732946'], ['58.853259', '5.732946'], ['37.984200', '23.735300'], ['35.689198', '51.388974'], ['-29.125200', '26.163000'], ['33.556000', '-7.595200'], ['-25.502600', '-49.290800'], ['40.547244', '-74.481348']]\n",
            "Source Latitude and langtitude:  ['38.894000', '-77.036500']\n"
          ]
        }
      ]
    },
    {
      "cell_type": "markdown",
      "source": [
        "**NOTE:** During the experiment, **sometimes** I faced a problem with getting lat. and long. from the aforementioned API (previous cell). because their server identified my activity as a \"suspicious\" one and gave me an error message. So that, I handeled this problem with the below code cell. Basically, I wrote lat. and long. in a csv file and then it is used only if the error response is obtained in the previous cell.\n",
        "when there is an error for any of targets, using the information of the backup csv for them is fine. For source (since it can be changed based on different VM in colab) I used the most frequent source position that I was getting -which was in the US- only when source ip address is in the US. Unless I asked to run the previous cell again. I emphasize, it is a rare situation and can be solved by trying to run the previouse cell multiple times or with a different ip."
      ],
      "metadata": {
        "id": "CSbhxnE-dZoY"
      }
    },
    {
      "cell_type": "code",
      "source": [
        "# if we could not get latitude and longtitude from the above cell(due to an error response), we handel it by reading back_up_lat_long.csv\n",
        "'''The Error message:\n",
        "[\"{'error': True\", \" 'reason': 'RateLimited'\", \" 'message': 'Visit https://ipapi.co/ratelimited/ for details'}\"]'''\n",
        "\n",
        "with open('/content/back_up_lat_long .csv', 'r') as file:\n",
        "      reader = csv.reader(file)\n",
        "      temp = [] #a list to store lat and long in the following format ['lat','long']\n",
        "      for row in reader:\n",
        "        list_data = [row[0], row[1]] #to create ['lat','long'] format for each target\n",
        "        temp.append(list_data)\n",
        "\n",
        "#considering all targets\n",
        "for i in range(len(target)): \n",
        "  if lat_lang[i][0] == '{\\'error\\': True': \n",
        "    print('Reading from back up CSV...') \n",
        "    lat_lang = temp[1:-1] #eliminating first and last row (first: title, last: lat. and long. of the source )\n",
        "    print(\"(from backup CSV) Target latitude and langtitude List: \", lat_lang)\n",
        "    break\n",
        "\n",
        "#considering the source\n",
        "if my_lat_lang[0] == '{\\'error\\': True':\n",
        "  if ip_info[\"country\"] == \"United States\":\n",
        "    my_lat_lang = temp[-1] #last row is the lat. and long. of the source\n",
        "    print(\"(from backup CSV) Source Latitude and langtitude: \", my_lat_lang)\n",
        "  else:\n",
        "    print(\"Run the previous cell again\")"
      ],
      "metadata": {
        "id": "1uqqTJa8NGEu"
      },
      "execution_count": 9,
      "outputs": []
    },
    {
      "cell_type": "code",
      "source": [
        "#computing the geographical distances between the source and destinations\n",
        "src_target_distance=[]\n",
        "for j in range(len(lat_lang)):\n",
        "  src_target_distance.append(distance(my_lat_lang, lat_lang[j]).km)\n",
        "print(\"Source-Target destinations: \", src_target_distance)"
      ],
      "metadata": {
        "colab": {
          "base_uri": "https://localhost:8080/"
        },
        "id": "te_hXRJbqK41",
        "outputId": "ccaf0708-1bed-4133-e7e7-2ec82e7025af"
      },
      "execution_count": 10,
      "outputs": [
        {
          "output_type": "stream",
          "name": "stdout",
          "text": [
            "Source-Target destinations:  [15710.34380957452, 7142.501962242903, 7463.342212322146, 6288.890058473905, 7691.947878863373, 6336.939364828743, 13132.236622094224, 7251.841076465838, 6915.735712495751, 6529.99236103618, 6541.220245432959, 6072.980161316777, 6804.054299613933, 13132.236622094224, 7353.983684506237, 5916.190348777699, 6801.151345714117, 11493.580936404493, 7299.0541499489555, 6336.939364828743, 13787.626413892429, 6943.119609218711, 6336.939364828743, 7843.636169762181, 7306.861638536903, 7142.501962242903, 6336.939364828743, 6541.220245432959, 6665.331591775603, 5916.190348777699, 956.7550510772513, 14185.957631803516, 5856.897092476348, 787.4104804127307, 6018.000777418753, 6018.000777418753, 8273.600163093735, 10199.498313930137, 13052.35634001195, 6119.648095179581, 7691.947878863373, 285.79131195590713]\n"
          ]
        }
      ]
    },
    {
      "cell_type": "code",
      "source": [
        "#sending SYN messages from the source to each destination and computing average RTT\n",
        "num_req = 10\n",
        "RTT = np.zeros((len(target),num_req))\n",
        "replied = 0\n",
        "#lost = 0\n",
        "for t in range(len(target_ip)):\n",
        "  for n in range(num_req):\n",
        "    #packet = IP(dst = target_ip[t]) / ICMP(type = 'echo-request',seq=n)\n",
        "    packet = IP(dst = target_ip[t]) / TCP(dport = 80, flags = 'S',seq=n) \n",
        "    ans, unans = sr(packet, verbose = False, timeout = 5)\n",
        "    if(len(ans)>0):\n",
        "      query = ans[0][0] \n",
        "      answer = ans[0][1]\n",
        "      RTT[t][n] = (answer.time - query.sent_time)*1000 #each row represent the destination, each Col represents RTT\n",
        "      #replied = replied+1\n",
        "    #if(len(unans)>0):\n",
        "      #lost+=len(unans)\n",
        "avg_rtt = np.sum(RTT, axis=1)/np.shape(RTT)[1] # averaging over Cols for each row (avg RTT between src and each destination)\n",
        "\n",
        "#avg_rtt"
      ],
      "metadata": {
        "id": "fhkDgQh164Bz"
      },
      "execution_count": 11,
      "outputs": []
    },
    {
      "cell_type": "code",
      "source": [
        "np.where(avg_rtt == 0) #finding the indexes with zero value(if any)"
      ],
      "metadata": {
        "colab": {
          "base_uri": "https://localhost:8080/"
        },
        "id": "vzwgBhtUNpDV",
        "outputId": "15142f58-8e1c-4caf-b02e-c3eb8435ba1e"
      },
      "execution_count": 12,
      "outputs": [
        {
          "output_type": "execute_result",
          "data": {
            "text/plain": [
              "(array([ 2, 37]),)"
            ]
          },
          "metadata": {},
          "execution_count": 12
        }
      ]
    },
    {
      "cell_type": "code",
      "source": [
        "#removing servers that did not respond to SYN (if any) \n",
        "no_response_index = np.where(avg_rtt == 0)[0]\n",
        "for nri in no_response_index:\n",
        "  del target[nri]\n",
        "  del target_ip[nri]\n",
        "  del src_target_distance[nri]\n",
        "avg_rtt = np.delete(avg_rtt, no_response_index)"
      ],
      "metadata": {
        "id": "YpopOaTMH3hT"
      },
      "execution_count": 13,
      "outputs": []
    },
    {
      "cell_type": "code",
      "source": [
        "print(\"AVG RTTs List: \" + ' , '.join(map(str, avg_rtt)))"
      ],
      "metadata": {
        "colab": {
          "base_uri": "https://localhost:8080/"
        },
        "id": "6deJ27SsHsP_",
        "outputId": "0bc7ac8f-6a05-46a0-e0fe-0b85fddcfd67"
      },
      "execution_count": 14,
      "outputs": [
        {
          "output_type": "stream",
          "name": "stdout",
          "text": [
            "AVG RTTs List: 197.07129001617432 , 109.2536211013794 , 91.4027452468872 , 119.91140842437744 , 88.19687366485596 , 186.521315574646 , 124.15010929107666 , 92.85426139831543 , 107.96201229095459 , 108.90905857086182 , 79.68058586120605 , 100.73044300079346 , 186.48076057434082 , 103.60064506530762 , 85.45413017272949 , 103.55088710784912 , 165.3728485107422 , 112.23535537719727 , 88.11953067779541 , 236.2072229385376 , 107.04953670501709 , 87.98182010650635 , 112.8929853439331 , 99.94423389434814 , 109.14947986602783 , 88.03961277008057 , 108.94320011138916 , 92.49486923217773 , 86.4163875579834 , 20.505833625793457 , 207.867431640625 , 85.74106693267822 , 15.46783447265625 , 106.07857704162598 , 105.89795112609863 , 130.83324432373047 , 241.3325548171997 , 114.0028715133667 , 119.89278793334961 , 7.14569091796875\n"
          ]
        }
      ]
    },
    {
      "cell_type": "markdown",
      "source": [
        "Note: servers with same IP addresses (like the example, below)are redundant information that has been removed in the following code block"
      ],
      "metadata": {
        "id": "H4IFT_ItS6Pr"
      }
    },
    {
      "cell_type": "code",
      "source": [
        "socket.gethostbyname('ftp.uk.debian.org') == socket.gethostbyname('ftp.is.debian.org')"
      ],
      "metadata": {
        "colab": {
          "base_uri": "https://localhost:8080/"
        },
        "id": "ir_0RRE24l5d",
        "outputId": "792a384b-fbb0-44ce-f756-f08c8a8db995"
      },
      "execution_count": 15,
      "outputs": [
        {
          "output_type": "execute_result",
          "data": {
            "text/plain": [
              "True"
            ]
          },
          "metadata": {},
          "execution_count": 15
        }
      ]
    },
    {
      "cell_type": "code",
      "source": [
        "#Creating the result dataframe\n",
        "result = {'target_name': target , 'target_ip': target_ip , 'avg_rtt': avg_rtt, 'src_target_distance': src_target_distance}\n",
        "result_df = pd.DataFrame(result)\n",
        "sorted_result_df = result_df.sort_values(by = 'src_target_distance') #sorting\n",
        "del result_df\n",
        "sorted_unique_result_df = sorted_result_df.drop_duplicates(subset=['target_ip']) #removing redundant rows\n",
        "del sorted_result_df\n",
        "sorted_unique_result_df.head(10)"
      ],
      "metadata": {
        "colab": {
          "base_uri": "https://localhost:8080/",
          "height": 363
        },
        "id": "2qcZQ9s8z4rG",
        "outputId": "4ee7cb19-785b-4983-f3df-b803c68ddc5b"
      },
      "execution_count": 16,
      "outputs": [
        {
          "output_type": "execute_result",
          "data": {
            "text/plain": [
              "                 target_name        target_ip     avg_rtt  src_target_distance\n",
              "39   gnu.mirror.constant.com      108.61.5.83    7.145691           285.791312\n",
              "32       gnu.mirror.iweb.com  192.175.120.174   15.467834           787.410480\n",
              "29         ftp.us.debian.org     64.50.236.52   20.505834           956.755051\n",
              "31  mirrors.gethosted.online    194.156.79.82   85.741067          5856.897092\n",
              "28         ftp.uk.debian.org   78.129.164.123   86.416388          5916.190349\n",
              "34           gnualpha.uib.no    129.177.13.60  105.897951          6018.000777\n",
              "10         ftp.fr.debian.org     212.27.32.66   79.680586          6072.980161\n",
              "37          mirror.marwan.ma   196.200.160.70  114.002872          6119.648095\n",
              "2          ftp.be.debian.org   195.234.45.114   91.402745          6288.890058\n",
              "25         ftp.es.debian.org    130.89.148.12   88.039613          6336.939365"
            ],
            "text/html": [
              "\n",
              "  <div id=\"df-1d6b7a09-5dfc-4c47-b7d4-a04d8b054975\">\n",
              "    <div class=\"colab-df-container\">\n",
              "      <div>\n",
              "<style scoped>\n",
              "    .dataframe tbody tr th:only-of-type {\n",
              "        vertical-align: middle;\n",
              "    }\n",
              "\n",
              "    .dataframe tbody tr th {\n",
              "        vertical-align: top;\n",
              "    }\n",
              "\n",
              "    .dataframe thead th {\n",
              "        text-align: right;\n",
              "    }\n",
              "</style>\n",
              "<table border=\"1\" class=\"dataframe\">\n",
              "  <thead>\n",
              "    <tr style=\"text-align: right;\">\n",
              "      <th></th>\n",
              "      <th>target_name</th>\n",
              "      <th>target_ip</th>\n",
              "      <th>avg_rtt</th>\n",
              "      <th>src_target_distance</th>\n",
              "    </tr>\n",
              "  </thead>\n",
              "  <tbody>\n",
              "    <tr>\n",
              "      <th>39</th>\n",
              "      <td>gnu.mirror.constant.com</td>\n",
              "      <td>108.61.5.83</td>\n",
              "      <td>7.145691</td>\n",
              "      <td>285.791312</td>\n",
              "    </tr>\n",
              "    <tr>\n",
              "      <th>32</th>\n",
              "      <td>gnu.mirror.iweb.com</td>\n",
              "      <td>192.175.120.174</td>\n",
              "      <td>15.467834</td>\n",
              "      <td>787.410480</td>\n",
              "    </tr>\n",
              "    <tr>\n",
              "      <th>29</th>\n",
              "      <td>ftp.us.debian.org</td>\n",
              "      <td>64.50.236.52</td>\n",
              "      <td>20.505834</td>\n",
              "      <td>956.755051</td>\n",
              "    </tr>\n",
              "    <tr>\n",
              "      <th>31</th>\n",
              "      <td>mirrors.gethosted.online</td>\n",
              "      <td>194.156.79.82</td>\n",
              "      <td>85.741067</td>\n",
              "      <td>5856.897092</td>\n",
              "    </tr>\n",
              "    <tr>\n",
              "      <th>28</th>\n",
              "      <td>ftp.uk.debian.org</td>\n",
              "      <td>78.129.164.123</td>\n",
              "      <td>86.416388</td>\n",
              "      <td>5916.190349</td>\n",
              "    </tr>\n",
              "    <tr>\n",
              "      <th>34</th>\n",
              "      <td>gnualpha.uib.no</td>\n",
              "      <td>129.177.13.60</td>\n",
              "      <td>105.897951</td>\n",
              "      <td>6018.000777</td>\n",
              "    </tr>\n",
              "    <tr>\n",
              "      <th>10</th>\n",
              "      <td>ftp.fr.debian.org</td>\n",
              "      <td>212.27.32.66</td>\n",
              "      <td>79.680586</td>\n",
              "      <td>6072.980161</td>\n",
              "    </tr>\n",
              "    <tr>\n",
              "      <th>37</th>\n",
              "      <td>mirror.marwan.ma</td>\n",
              "      <td>196.200.160.70</td>\n",
              "      <td>114.002872</td>\n",
              "      <td>6119.648095</td>\n",
              "    </tr>\n",
              "    <tr>\n",
              "      <th>2</th>\n",
              "      <td>ftp.be.debian.org</td>\n",
              "      <td>195.234.45.114</td>\n",
              "      <td>91.402745</td>\n",
              "      <td>6288.890058</td>\n",
              "    </tr>\n",
              "    <tr>\n",
              "      <th>25</th>\n",
              "      <td>ftp.es.debian.org</td>\n",
              "      <td>130.89.148.12</td>\n",
              "      <td>88.039613</td>\n",
              "      <td>6336.939365</td>\n",
              "    </tr>\n",
              "  </tbody>\n",
              "</table>\n",
              "</div>\n",
              "      <button class=\"colab-df-convert\" onclick=\"convertToInteractive('df-1d6b7a09-5dfc-4c47-b7d4-a04d8b054975')\"\n",
              "              title=\"Convert this dataframe to an interactive table.\"\n",
              "              style=\"display:none;\">\n",
              "        \n",
              "  <svg xmlns=\"http://www.w3.org/2000/svg\" height=\"24px\"viewBox=\"0 0 24 24\"\n",
              "       width=\"24px\">\n",
              "    <path d=\"M0 0h24v24H0V0z\" fill=\"none\"/>\n",
              "    <path d=\"M18.56 5.44l.94 2.06.94-2.06 2.06-.94-2.06-.94-.94-2.06-.94 2.06-2.06.94zm-11 1L8.5 8.5l.94-2.06 2.06-.94-2.06-.94L8.5 2.5l-.94 2.06-2.06.94zm10 10l.94 2.06.94-2.06 2.06-.94-2.06-.94-.94-2.06-.94 2.06-2.06.94z\"/><path d=\"M17.41 7.96l-1.37-1.37c-.4-.4-.92-.59-1.43-.59-.52 0-1.04.2-1.43.59L10.3 9.45l-7.72 7.72c-.78.78-.78 2.05 0 2.83L4 21.41c.39.39.9.59 1.41.59.51 0 1.02-.2 1.41-.59l7.78-7.78 2.81-2.81c.8-.78.8-2.07 0-2.86zM5.41 20L4 18.59l7.72-7.72 1.47 1.35L5.41 20z\"/>\n",
              "  </svg>\n",
              "      </button>\n",
              "      \n",
              "  <style>\n",
              "    .colab-df-container {\n",
              "      display:flex;\n",
              "      flex-wrap:wrap;\n",
              "      gap: 12px;\n",
              "    }\n",
              "\n",
              "    .colab-df-convert {\n",
              "      background-color: #E8F0FE;\n",
              "      border: none;\n",
              "      border-radius: 50%;\n",
              "      cursor: pointer;\n",
              "      display: none;\n",
              "      fill: #1967D2;\n",
              "      height: 32px;\n",
              "      padding: 0 0 0 0;\n",
              "      width: 32px;\n",
              "    }\n",
              "\n",
              "    .colab-df-convert:hover {\n",
              "      background-color: #E2EBFA;\n",
              "      box-shadow: 0px 1px 2px rgba(60, 64, 67, 0.3), 0px 1px 3px 1px rgba(60, 64, 67, 0.15);\n",
              "      fill: #174EA6;\n",
              "    }\n",
              "\n",
              "    [theme=dark] .colab-df-convert {\n",
              "      background-color: #3B4455;\n",
              "      fill: #D2E3FC;\n",
              "    }\n",
              "\n",
              "    [theme=dark] .colab-df-convert:hover {\n",
              "      background-color: #434B5C;\n",
              "      box-shadow: 0px 1px 3px 1px rgba(0, 0, 0, 0.15);\n",
              "      filter: drop-shadow(0px 1px 2px rgba(0, 0, 0, 0.3));\n",
              "      fill: #FFFFFF;\n",
              "    }\n",
              "  </style>\n",
              "\n",
              "      <script>\n",
              "        const buttonEl =\n",
              "          document.querySelector('#df-1d6b7a09-5dfc-4c47-b7d4-a04d8b054975 button.colab-df-convert');\n",
              "        buttonEl.style.display =\n",
              "          google.colab.kernel.accessAllowed ? 'block' : 'none';\n",
              "\n",
              "        async function convertToInteractive(key) {\n",
              "          const element = document.querySelector('#df-1d6b7a09-5dfc-4c47-b7d4-a04d8b054975');\n",
              "          const dataTable =\n",
              "            await google.colab.kernel.invokeFunction('convertToInteractive',\n",
              "                                                     [key], {});\n",
              "          if (!dataTable) return;\n",
              "\n",
              "          const docLinkHtml = 'Like what you see? Visit the ' +\n",
              "            '<a target=\"_blank\" href=https://colab.research.google.com/notebooks/data_table.ipynb>data table notebook</a>'\n",
              "            + ' to learn more about interactive tables.';\n",
              "          element.innerHTML = '';\n",
              "          dataTable['output_type'] = 'display_data';\n",
              "          await google.colab.output.renderOutput(dataTable, element);\n",
              "          const docLink = document.createElement('div');\n",
              "          docLink.innerHTML = docLinkHtml;\n",
              "          element.appendChild(docLink);\n",
              "        }\n",
              "      </script>\n",
              "    </div>\n",
              "  </div>\n",
              "  "
            ]
          },
          "metadata": {},
          "execution_count": 16
        }
      ]
    },
    {
      "cell_type": "code",
      "source": [
        "print(\"The final number of Servers: \" ,len(target)) #after removing duplicated IP adrresses"
      ],
      "metadata": {
        "colab": {
          "base_uri": "https://localhost:8080/"
        },
        "id": "gO1TKs14kNpW",
        "outputId": "4f4bb1d8-8700-4c54-d2b3-086f39e6536a"
      },
      "execution_count": 17,
      "outputs": [
        {
          "output_type": "stream",
          "name": "stdout",
          "text": [
            "The final number of Servers:  40\n"
          ]
        }
      ]
    },
    {
      "cell_type": "markdown",
      "source": [
        "The Following graphs shows that RTT generally has a linear relation with distance. However, it can be seen there are some spikes in the graph meaning that there are some further serveres with smaller RTT. we can conclude that distance is not the only effective parameter (e.g eg.network congestion, bandwith, packet loss, etc). For example the maximum average RTT belongs to **\"IRAN\"** that its government reduces the bandwidth of the whole country, due to the political issues. But apart from that, one can says distance is the most effective factor. Therefore, a fair estimation of RTT can be obtained based on the geographical distance."
      ],
      "metadata": {
        "id": "kLCW_wmiv9_i"
      }
    },
    {
      "cell_type": "code",
      "source": [
        "fig = plt.figure(figsize =(15,10));\n",
        "plt.plot(sorted_unique_result_df['src_target_distance'],sorted_unique_result_df['avg_rtt'], \"r--\");\n",
        "plt.scatter(sorted_unique_result_df['src_target_distance'],sorted_unique_result_df['avg_rtt']);\n",
        "\n",
        "plt.xlabel(\"Distance (Km)\");\n",
        "plt.ylabel(\"Average RTT (ms)\");\n",
        "plt.grid(visible=True);\n",
        "plt.legend([\"Connecting line\", \"Data\"],loc =\"upper left\");"
      ],
      "metadata": {
        "colab": {
          "base_uri": "https://localhost:8080/",
          "height": 606
        },
        "id": "8bE-FYZ6-PGd",
        "outputId": "08e665c6-682e-4878-e02f-5a634ef78012"
      },
      "execution_count": 18,
      "outputs": [
        {
          "output_type": "display_data",
          "data": {
            "text/plain": [
              "<Figure size 1080x720 with 1 Axes>"
            ],
            "image/png": "[encoded data removed]"
          },
          "metadata": {
            "needs_background": "light"
          }
        }
      ]
    },
    {
      "cell_type": "code",
      "source": [
        "distances = np.array(src_target_distance)  # km\n",
        "rtts = np.array(avg_rtt)  # ms\n",
        "\n",
        "# Fit a linear function to the data\n",
        "coeffs = np.polyfit(distances, rtts, deg=1)\n",
        "slope, intercept = coeffs\n",
        "\n",
        "# Estimate the average RTT per km\n",
        "avg_rtt_per_km = slope  \n",
        "\n",
        "# Print the results\n",
        "print(f\"Linear function: RTT = {slope:.2f} * distance + {intercept:.2f}\")\n",
        "print(f\"Average RTT per km: {avg_rtt_per_km:.6f} ms/km\")\n",
        "\n",
        "# Plot the results\n",
        "fig = plt.figure(figsize =(15,10));\n",
        "plt.scatter(distances, rtts)\n",
        "plt.plot(sorted_unique_result_df['src_target_distance'],sorted_unique_result_df['avg_rtt'], 'r--');\n",
        "plt.plot(distances, slope * distances + intercept, color='green')\n",
        "plt.xlabel(\"Distance (km)\");\n",
        "plt.ylabel(\"Average RTT (ms)\");\n",
        "plt.grid(visible=True);\n",
        "plt.legend([\"Data\", \"Connecting line\", \"Fit\"], loc =\"upper left\");\n",
        "plt.show()"
      ],
      "metadata": {
        "colab": {
          "base_uri": "https://localhost:8080/",
          "height": 641
        },
        "id": "r9WvCMg2bFoQ",
        "outputId": "5d41255d-414b-4095-abb1-6cb745daec7c"
      },
      "execution_count": 19,
      "outputs": [
        {
          "output_type": "stream",
          "name": "stdout",
          "text": [
            "Linear function: RTT = 0.01 * distance + 5.64\n",
            "Average RTT per km: 0.014562 ms/km\n"
          ]
        },
        {
          "output_type": "display_data",
          "data": {
            "text/plain": [
              "<Figure size 1080x720 with 1 Axes>"
            ],
            "image/png": "[encoded data removed]"
          },
          "metadata": {
            "needs_background": "light"
          }
        }
      ]
    }
  ]
}